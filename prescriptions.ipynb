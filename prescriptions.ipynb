{
 "cells": [
  {
   "cell_type": "markdown",
   "metadata": {},
   "source": [
    "# Opioid Prescriptions"
   ]
  },
  {
   "cell_type": "code",
   "execution_count": 1,
   "metadata": {},
   "outputs": [],
   "source": [
    "# Depedencies\n",
    "import pandas as pd"
   ]
  },
  {
   "cell_type": "code",
   "execution_count": 128,
   "metadata": {},
   "outputs": [],
   "source": [
    "# Load sas file into pandas\n",
    "file_path = \"prescriptions/raw_data/PartD_Prescriber_PUF_NPI_13.txt\"\n",
    "pres_13_df = pd.read_table(file_path)"
   ]
  },
  {
   "cell_type": "code",
   "execution_count": 158,
   "metadata": {},
   "outputs": [],
   "source": [
    "# nppes_provider_zip5: Zip Code of the Provider (first five digits)\n",
    "# nppes_provider_city: City of the Provider\n",
    "# opioid_claim_count: Total Claims of Opioid Drugs, Including Refills\n",
    "# opioid_day_supple: Number of Day's Supply of All Opioid Drugs\n",
    "# opioid_prescriber_rate: Percent of Total_Claim_Count Represented by Opioid_Claim_Count\n",
    "# la_opioid tags follow the same as above\n",
    "\n",
    "prescriptions_df = pd.DataFrame()\n",
    "x = 13\n",
    "year = 2013\n",
    "while x <= 17:\n",
    "    \n",
    "    file_path = f'prescriptions/raw_data/PartD_Prescriber_PUF_NPI_{x}.txt'\n",
    "    df = pd.read_table(file_path)\n",
    "    df = df[[\n",
    "            'nppes_provider_zip5',\n",
    "            'opioid_claim_count', \n",
    "            'opioid_day_supply', \n",
    "            'opioid_prescriber_rate', \n",
    "            'la_opioid_claim_count', \n",
    "            'la_opioid_day_supply',\n",
    "            'la_opioid_prescriber_rate',\n",
    "            ]]\n",
    "    df.rename(columns={\"nppes_provider_zip5\": \"zip\"}, inplace=True)\n",
    "    df.dropna(subset=['zip'], inplace=True)\n",
    "    df['zip'] = df['zip'].astype(int).astype(str).str.zfill(5)\n",
    "    df.fillna(0, inplace=True)\n",
    "    df['year'] = year\n",
    "    prescriptions_df = prescriptions_df.append(df)\n",
    "    \n",
    "    x += 1\n",
    "    year += 1\n",
    "    \n",
    "    continue\n",
    "    "
   ]
  },
  {
   "cell_type": "code",
   "execution_count": 159,
   "metadata": {},
   "outputs": [],
   "source": [
    "test = prescriptions_df.groupby(['zip', 'year']).sum().reset_index()"
   ]
  },
  {
   "cell_type": "code",
   "execution_count": 161,
   "metadata": {},
   "outputs": [
    {
     "data": {
      "text/html": [
       "<div>\n",
       "<style scoped>\n",
       "    .dataframe tbody tr th:only-of-type {\n",
       "        vertical-align: middle;\n",
       "    }\n",
       "\n",
       "    .dataframe tbody tr th {\n",
       "        vertical-align: top;\n",
       "    }\n",
       "\n",
       "    .dataframe thead th {\n",
       "        text-align: right;\n",
       "    }\n",
       "</style>\n",
       "<table border=\"1\" class=\"dataframe\">\n",
       "  <thead>\n",
       "    <tr style=\"text-align: right;\">\n",
       "      <th></th>\n",
       "      <th>zip</th>\n",
       "      <th>year</th>\n",
       "      <th>opioid_claim_count</th>\n",
       "      <th>opioid_day_supply</th>\n",
       "      <th>opioid_prescriber_rate</th>\n",
       "      <th>la_opioid_claim_count</th>\n",
       "      <th>la_opioid_day_supply</th>\n",
       "      <th>la_opioid_prescriber_rate</th>\n",
       "    </tr>\n",
       "  </thead>\n",
       "  <tbody>\n",
       "    <tr>\n",
       "      <th>101506</th>\n",
       "      <td>99929</td>\n",
       "      <td>2013</td>\n",
       "      <td>436.0</td>\n",
       "      <td>11674.0</td>\n",
       "      <td>34.53</td>\n",
       "      <td>86.0</td>\n",
       "      <td>2559.0</td>\n",
       "      <td>67.19</td>\n",
       "    </tr>\n",
       "    <tr>\n",
       "      <th>101507</th>\n",
       "      <td>99929</td>\n",
       "      <td>2014</td>\n",
       "      <td>427.0</td>\n",
       "      <td>10873.0</td>\n",
       "      <td>41.16</td>\n",
       "      <td>71.0</td>\n",
       "      <td>2087.0</td>\n",
       "      <td>63.11</td>\n",
       "    </tr>\n",
       "    <tr>\n",
       "      <th>101508</th>\n",
       "      <td>99929</td>\n",
       "      <td>2015</td>\n",
       "      <td>426.0</td>\n",
       "      <td>11692.0</td>\n",
       "      <td>87.89</td>\n",
       "      <td>77.0</td>\n",
       "      <td>2622.0</td>\n",
       "      <td>53.21</td>\n",
       "    </tr>\n",
       "    <tr>\n",
       "      <th>101509</th>\n",
       "      <td>99929</td>\n",
       "      <td>2016</td>\n",
       "      <td>442.0</td>\n",
       "      <td>12658.0</td>\n",
       "      <td>92.75</td>\n",
       "      <td>79.0</td>\n",
       "      <td>3087.0</td>\n",
       "      <td>76.57</td>\n",
       "    </tr>\n",
       "    <tr>\n",
       "      <th>101510</th>\n",
       "      <td>99929</td>\n",
       "      <td>2017</td>\n",
       "      <td>316.0</td>\n",
       "      <td>9873.0</td>\n",
       "      <td>36.45</td>\n",
       "      <td>50.0</td>\n",
       "      <td>2169.0</td>\n",
       "      <td>76.02</td>\n",
       "    </tr>\n",
       "  </tbody>\n",
       "</table>\n",
       "</div>"
      ],
      "text/plain": [
       "          zip  year  opioid_claim_count  opioid_day_supply  \\\n",
       "101506  99929  2013               436.0            11674.0   \n",
       "101507  99929  2014               427.0            10873.0   \n",
       "101508  99929  2015               426.0            11692.0   \n",
       "101509  99929  2016               442.0            12658.0   \n",
       "101510  99929  2017               316.0             9873.0   \n",
       "\n",
       "        opioid_prescriber_rate  la_opioid_claim_count  la_opioid_day_supply  \\\n",
       "101506                   34.53                   86.0                2559.0   \n",
       "101507                   41.16                   71.0                2087.0   \n",
       "101508                   87.89                   77.0                2622.0   \n",
       "101509                   92.75                   79.0                3087.0   \n",
       "101510                   36.45                   50.0                2169.0   \n",
       "\n",
       "        la_opioid_prescriber_rate  \n",
       "101506                      67.19  \n",
       "101507                      63.11  \n",
       "101508                      53.21  \n",
       "101509                      76.57  \n",
       "101510                      76.02  "
      ]
     },
     "execution_count": 161,
     "metadata": {},
     "output_type": "execute_result"
    }
   ],
   "source": [
    "test.tail()"
   ]
  },
  {
   "cell_type": "code",
   "execution_count": 162,
   "metadata": {},
   "outputs": [
    {
     "data": {
      "text/plain": [
       "zip                          101511\n",
       "year                         101511\n",
       "opioid_claim_count           101511\n",
       "opioid_day_supply            101511\n",
       "opioid_prescriber_rate       101511\n",
       "la_opioid_claim_count        101511\n",
       "la_opioid_day_supply         101511\n",
       "la_opioid_prescriber_rate    101511\n",
       "dtype: int64"
      ]
     },
     "execution_count": 162,
     "metadata": {},
     "output_type": "execute_result"
    }
   ],
   "source": [
    "test.count()"
   ]
  },
  {
   "cell_type": "code",
   "execution_count": 139,
   "metadata": {},
   "outputs": [],
   "source": [
    "test = test.append(pres_13_df)"
   ]
  },
  {
   "cell_type": "code",
   "execution_count": 140,
   "metadata": {},
   "outputs": [
    {
     "data": {
      "text/plain": [
       "zip                          2098466\n",
       "opioid_claim_count           2098466\n",
       "opioid_day_supply            2098466\n",
       "opioid_prescriber_rate       2098466\n",
       "la_opioid_claim_count        2098466\n",
       "la_opioid_day_supply         2098466\n",
       "la_opioid_prescriber_rate    2098466\n",
       "year                         2098466\n",
       "dtype: int64"
      ]
     },
     "execution_count": 140,
     "metadata": {},
     "output_type": "execute_result"
    }
   ],
   "source": [
    "test.count()"
   ]
  },
  {
   "cell_type": "code",
   "execution_count": 122,
   "metadata": {},
   "outputs": [],
   "source": [
    "test = pres_13_df.sort_values(by=['zip'])"
   ]
  },
  {
   "cell_type": "code",
   "execution_count": 110,
   "metadata": {},
   "outputs": [],
   "source": [
    "test = pres_13_df.groupby('zip').sum()"
   ]
  },
  {
   "cell_type": "code",
   "execution_count": 124,
   "metadata": {},
   "outputs": [
    {
     "data": {
      "text/html": [
       "<div>\n",
       "<style scoped>\n",
       "    .dataframe tbody tr th:only-of-type {\n",
       "        vertical-align: middle;\n",
       "    }\n",
       "\n",
       "    .dataframe tbody tr th {\n",
       "        vertical-align: top;\n",
       "    }\n",
       "\n",
       "    .dataframe thead th {\n",
       "        text-align: right;\n",
       "    }\n",
       "</style>\n",
       "<table border=\"1\" class=\"dataframe\">\n",
       "  <thead>\n",
       "    <tr style=\"text-align: right;\">\n",
       "      <th></th>\n",
       "      <th>zip</th>\n",
       "      <th>opioid_claim_count</th>\n",
       "      <th>opioid_day_supply</th>\n",
       "      <th>opioid_prescriber_rate</th>\n",
       "      <th>la_opioid_claim_count</th>\n",
       "      <th>la_opioid_day_supply</th>\n",
       "      <th>la_opioid_prescriber_rate</th>\n",
       "      <th>year</th>\n",
       "    </tr>\n",
       "  </thead>\n",
       "  <tbody>\n",
       "    <tr>\n",
       "      <th>760935</th>\n",
       "      <td>99929</td>\n",
       "      <td>160.0</td>\n",
       "      <td>4487.0</td>\n",
       "      <td>7.69</td>\n",
       "      <td>47.0</td>\n",
       "      <td>1411.0</td>\n",
       "      <td>29.38</td>\n",
       "      <td>2013</td>\n",
       "    </tr>\n",
       "    <tr>\n",
       "      <th>114736</th>\n",
       "      <td>99929</td>\n",
       "      <td>22.0</td>\n",
       "      <td>331.0</td>\n",
       "      <td>2.45</td>\n",
       "      <td>0.0</td>\n",
       "      <td>0.0</td>\n",
       "      <td>0.00</td>\n",
       "      <td>2013</td>\n",
       "    </tr>\n",
       "    <tr>\n",
       "      <th>862008</th>\n",
       "      <td>99929</td>\n",
       "      <td>178.0</td>\n",
       "      <td>4728.0</td>\n",
       "      <td>12.71</td>\n",
       "      <td>27.0</td>\n",
       "      <td>808.0</td>\n",
       "      <td>15.17</td>\n",
       "      <td>2013</td>\n",
       "    </tr>\n",
       "    <tr>\n",
       "      <th>37640</th>\n",
       "      <td>99929</td>\n",
       "      <td>0.0</td>\n",
       "      <td>0.0</td>\n",
       "      <td>0.00</td>\n",
       "      <td>0.0</td>\n",
       "      <td>0.0</td>\n",
       "      <td>0.00</td>\n",
       "      <td>2013</td>\n",
       "    </tr>\n",
       "    <tr>\n",
       "      <th>457536</th>\n",
       "      <td>99929</td>\n",
       "      <td>23.0</td>\n",
       "      <td>902.0</td>\n",
       "      <td>3.05</td>\n",
       "      <td>0.0</td>\n",
       "      <td>0.0</td>\n",
       "      <td>0.00</td>\n",
       "      <td>2013</td>\n",
       "    </tr>\n",
       "  </tbody>\n",
       "</table>\n",
       "</div>"
      ],
      "text/plain": [
       "          zip  opioid_claim_count  opioid_day_supply  opioid_prescriber_rate  \\\n",
       "760935  99929               160.0             4487.0                    7.69   \n",
       "114736  99929                22.0              331.0                    2.45   \n",
       "862008  99929               178.0             4728.0                   12.71   \n",
       "37640   99929                 0.0                0.0                    0.00   \n",
       "457536  99929                23.0              902.0                    3.05   \n",
       "\n",
       "        la_opioid_claim_count  la_opioid_day_supply  \\\n",
       "760935                   47.0                1411.0   \n",
       "114736                    0.0                   0.0   \n",
       "862008                   27.0                 808.0   \n",
       "37640                     0.0                   0.0   \n",
       "457536                    0.0                   0.0   \n",
       "\n",
       "        la_opioid_prescriber_rate  year  \n",
       "760935                      29.38  2013  \n",
       "114736                       0.00  2013  \n",
       "862008                      15.17  2013  \n",
       "37640                        0.00  2013  \n",
       "457536                       0.00  2013  "
      ]
     },
     "execution_count": 124,
     "metadata": {},
     "output_type": "execute_result"
    }
   ],
   "source": [
    "test.tail()"
   ]
  },
  {
   "cell_type": "code",
   "execution_count": 100,
   "metadata": {},
   "outputs": [],
   "source": [
    "test['zip'] = test['zip'].astype(str).str.zfill(5)"
   ]
  },
  {
   "cell_type": "code",
   "execution_count": 101,
   "metadata": {},
   "outputs": [
    {
     "data": {
      "text/html": [
       "<div>\n",
       "<style scoped>\n",
       "    .dataframe tbody tr th:only-of-type {\n",
       "        vertical-align: middle;\n",
       "    }\n",
       "\n",
       "    .dataframe tbody tr th {\n",
       "        vertical-align: top;\n",
       "    }\n",
       "\n",
       "    .dataframe thead th {\n",
       "        text-align: right;\n",
       "    }\n",
       "</style>\n",
       "<table border=\"1\" class=\"dataframe\">\n",
       "  <thead>\n",
       "    <tr style=\"text-align: right;\">\n",
       "      <th></th>\n",
       "      <th>zip</th>\n",
       "      <th>opioid_claim_count</th>\n",
       "      <th>opioid_day_supply</th>\n",
       "      <th>opioid_prescriber_rate</th>\n",
       "      <th>la_opioid_claim_count</th>\n",
       "      <th>la_opioid_day_supply</th>\n",
       "      <th>la_opioid_prescriber_rate</th>\n",
       "      <th>year</th>\n",
       "    </tr>\n",
       "  </thead>\n",
       "  <tbody>\n",
       "    <tr>\n",
       "      <th>0</th>\n",
       "      <td>00000</td>\n",
       "      <td>23.0</td>\n",
       "      <td>62.0</td>\n",
       "      <td>16.55</td>\n",
       "      <td>0.0</td>\n",
       "      <td>0.0</td>\n",
       "      <td>0.0</td>\n",
       "      <td>6039</td>\n",
       "    </tr>\n",
       "    <tr>\n",
       "      <th>1</th>\n",
       "      <td>00061</td>\n",
       "      <td>184.0</td>\n",
       "      <td>2502.0</td>\n",
       "      <td>5.13</td>\n",
       "      <td>0.0</td>\n",
       "      <td>0.0</td>\n",
       "      <td>0.0</td>\n",
       "      <td>2013</td>\n",
       "    </tr>\n",
       "    <tr>\n",
       "      <th>2</th>\n",
       "      <td>00080</td>\n",
       "      <td>37.0</td>\n",
       "      <td>199.0</td>\n",
       "      <td>0.99</td>\n",
       "      <td>0.0</td>\n",
       "      <td>0.0</td>\n",
       "      <td>0.0</td>\n",
       "      <td>2013</td>\n",
       "    </tr>\n",
       "    <tr>\n",
       "      <th>3</th>\n",
       "      <td>00115</td>\n",
       "      <td>0.0</td>\n",
       "      <td>0.0</td>\n",
       "      <td>0.00</td>\n",
       "      <td>0.0</td>\n",
       "      <td>0.0</td>\n",
       "      <td>0.0</td>\n",
       "      <td>2013</td>\n",
       "    </tr>\n",
       "    <tr>\n",
       "      <th>4</th>\n",
       "      <td>00294</td>\n",
       "      <td>0.0</td>\n",
       "      <td>0.0</td>\n",
       "      <td>0.00</td>\n",
       "      <td>0.0</td>\n",
       "      <td>0.0</td>\n",
       "      <td>0.0</td>\n",
       "      <td>2013</td>\n",
       "    </tr>\n",
       "  </tbody>\n",
       "</table>\n",
       "</div>"
      ],
      "text/plain": [
       "     zip  opioid_claim_count  opioid_day_supply  opioid_prescriber_rate  \\\n",
       "0  00000                23.0               62.0                   16.55   \n",
       "1  00061               184.0             2502.0                    5.13   \n",
       "2  00080                37.0              199.0                    0.99   \n",
       "3  00115                 0.0                0.0                    0.00   \n",
       "4  00294                 0.0                0.0                    0.00   \n",
       "\n",
       "   la_opioid_claim_count  la_opioid_day_supply  la_opioid_prescriber_rate  \\\n",
       "0                    0.0                   0.0                        0.0   \n",
       "1                    0.0                   0.0                        0.0   \n",
       "2                    0.0                   0.0                        0.0   \n",
       "3                    0.0                   0.0                        0.0   \n",
       "4                    0.0                   0.0                        0.0   \n",
       "\n",
       "   year  \n",
       "0  6039  \n",
       "1  2013  \n",
       "2  2013  \n",
       "3  2013  \n",
       "4  2013  "
      ]
     },
     "execution_count": 101,
     "metadata": {},
     "output_type": "execute_result"
    }
   ],
   "source": [
    "test.head()"
   ]
  },
  {
   "cell_type": "code",
   "execution_count": null,
   "metadata": {},
   "outputs": [],
   "source": []
  }
 ],
 "metadata": {
  "kernelspec": {
   "display_name": "Python 3",
   "language": "python",
   "name": "python3"
  },
  "language_info": {
   "codemirror_mode": {
    "name": "ipython",
    "version": 3
   },
   "file_extension": ".py",
   "mimetype": "text/x-python",
   "name": "python",
   "nbconvert_exporter": "python",
   "pygments_lexer": "ipython3",
   "version": "3.7.5"
  }
 },
 "nbformat": 4,
 "nbformat_minor": 4
}
